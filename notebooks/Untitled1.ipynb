{
 "cells": [
  {
   "cell_type": "code",
   "execution_count": 1,
   "metadata": {
    "collapsed": false
   },
   "outputs": [],
   "source": [
    "from main import *\n",
    "from file_helpers import *"
   ]
  },
  {
   "cell_type": "code",
   "execution_count": 2,
   "metadata": {
    "collapsed": false
   },
   "outputs": [],
   "source": [
    "import sys\n",
    "\n",
    "import numpy as np\n",
    "import matplotlib.pyplot as plt\n",
    "\n",
    "import peak_detection as pdetect\n",
    "import peak_statistics as pstats\n",
    "import file_helpers as fh\n",
    "\n",
    "def process_data(filepath, plot = False):\n",
    "    \"\"\"\n",
    "    ================\n",
    "    INPUT: string (filepath), boolean\n",
    "    OUTPUT: several statistics, and a plot if \"plot\" parameter is True\n",
    "    ================\n",
    "\n",
    "    Returns enthalpy about the data, and plots it, the endpoints and the\n",
    "    line if you want (as well as statistics)\n",
    "\n",
    "    \"\"\"\n",
    "\n",
    "    # clean the data\n",
    "    data = fh.clean_file(filepath)\n",
    "\n",
    "    #find the first number in the filename and use as the title\n",
    "    name_of_preparation = fh.get_file_title(filepath)\n",
    "\n",
    "    # ensure that the data is formatted correctly, as arrays\n",
    "    temp, heat_flow = np.array(data.temp), np.array(data.heat_flow)\n",
    "\n",
    "    # generate statistics\n",
    "    e, hf, t, sd, (onset_point, end_point) = pstats.get_statistics(temp, heat_flow)\n",
    "\n",
    "    statistics_text = \"\"\"=== Preparation {0} ===\n",
    "    Enthalpy: {1}\n",
    "    Peak Heat Flow: {2}\n",
    "    Peak Temperature: {3}\n",
    "    Heat Flow Standard Devation: {4}\n",
    "    Onset point: {5}, {6}\n",
    "    End point: {7}, {8}\n",
    "    \"\"\".format(name_of_preparation,\n",
    "               round(e, 3),\n",
    "               round(hf, 3),\n",
    "               round(t, 2),\n",
    "               round(sd, 4),\n",
    "               round(onset_point[0], 2),\n",
    "               round(onset_point[1], 3),\n",
    "               round(end_point[0], 2),\n",
    "               round(end_point[1], 3)\n",
    "               )\n",
    "\n",
    "    if plot:\n",
    "        # get line for plotting\n",
    "        line_X, line_y = pstats.fit_line(temp, heat_flow)\n",
    "\n",
    "        # get onset and end points\n",
    "        (x0, y0), (x1, y1) = pdetect.get_points_coordinates(temp, heat_flow)\n",
    "\n",
    "        # set up plot\n",
    "        fig, ax = plt.subplots(1)\n",
    "        ax.set_title(\"Preparation {}\".format(name_of_preparation))\n",
    "        ax.set_xlabel(\"Temperature\")\n",
    "        ax.set_ylabel(\"Heat Flow\")\n",
    "        ax.annotate(statistics_text,\n",
    "                    xy=(0.5, 0.4),\n",
    "                    xycoords='axes fraction'\n",
    "                    )\n",
    "\n",
    "        # plot original data\n",
    "        plt.plot(temp,\n",
    "               heat_flow,\n",
    "               color = 'black',\n",
    "               label = \"Original data\"\n",
    "              )\n",
    "\n",
    "        # plot best fit line\n",
    "        plt.plot(line_X,\n",
    "               line_y,\n",
    "               color = 'red',\n",
    "               label = \"Best fit line\"\n",
    "              )\n",
    "\n",
    "        # plot onset point\n",
    "        plt.scatter(x0,\n",
    "                  y0,\n",
    "                  color = 'green',\n",
    "                  label = 'Onset: {}, {}'.format(round(x0,2), round(y0, 2))\n",
    "                 )\n",
    "\n",
    "        # plot end point\n",
    "        plt.scatter(x1,\n",
    "                  y1,\n",
    "                  color = 'purple',\n",
    "                  label = 'End: {}, {}'.format(round(x1, 2), round(y1, 2))\n",
    "                 )\n",
    "        plt.legend()\n",
    "        plt.show()\n",
    "\n",
    "    return e # this is short for enthalpy, as defined above"
   ]
  },
  {
   "cell_type": "code",
   "execution_count": 3,
   "metadata": {
    "collapsed": true
   },
   "outputs": [],
   "source": [
    "fnames = get_files()"
   ]
  },
  {
   "cell_type": "code",
   "execution_count": 4,
   "metadata": {
    "collapsed": false
   },
   "outputs": [
    {
     "data": {
      "text/plain": [
       "4.210972201515923"
      ]
     },
     "execution_count": 4,
     "metadata": {},
     "output_type": "execute_result"
    }
   ],
   "source": [
    "process_data(fnames[8], plot = True)"
   ]
  },
  {
   "cell_type": "code",
   "execution_count": 7,
   "metadata": {
    "collapsed": false
   },
   "outputs": [],
   "source": [
    "X, y = clean_file(fnames[8]).temp, clean_file(fnames[0]).heat_flow"
   ]
  },
  {
   "cell_type": "code",
   "execution_count": 18,
   "metadata": {
    "collapsed": true
   },
   "outputs": [],
   "source": [
    "import numpy as np\n",
    "\n",
    "from scipy.interpolate import UnivariateSpline\n",
    "from scipy.signal import argrelextrema\n",
    "\n",
    "\n",
    "def find_onset_point(X, y):\n",
    "    \"\"\"\n",
    "    ================\n",
    "    INPUT: array of X data (temperature), array of Y data (heat flow)\n",
    "    OUTPUT: int\n",
    "    ================\n",
    "\n",
    "    In order, this function:\n",
    "\n",
    "    1. Smooths the data and approximates it with a spline.\n",
    "\n",
    "    2. Finds the second derivative.\n",
    "\n",
    "    3. Finds where the second derivative of the approximation is minimized,\n",
    "    which in this data coincides with just before the reaction begins.\n",
    "    That point is the starting point for the reaction.\n",
    "\n",
    "    \"\"\"\n",
    "    second_derivative = UnivariateSpline(X, y, k = 5).derivative(2)(X)\n",
    "\n",
    "    local_minima = argrelextrema(second_derivative, np.less)[0]\n",
    "    relevant_minima_points = local_minima[local_minima > 100] # crop off the first tail\n",
    "\n",
    "    start_point_id = relevant_minima_points[0] # take the first relevant point\n",
    "\n",
    "    return start_point_id\n",
    "\n",
    "def find_ending_point(X, y, start_point):\n",
    "    \"\"\"\n",
    "    ================\n",
    "    INPUT: array of X data (temperature), array of Y data (heat flow), int\n",
    "    OUTPUT: int\n",
    "    ================\n",
    "\n",
    "    Use this once you find the starting point.\n",
    "\n",
    "    In order, this function:\n",
    "\n",
    "    1. Isolates data after the reaction has started, which is more or less\n",
    "    a fat-tailed normal distribution\n",
    "\n",
    "    2. Approximates the data with a spline.\n",
    "\n",
    "    3. Finds the point where the first derivative is closest to zero and nearest\n",
    "    to the end of the reaction. This is the end point.\n",
    "        ## note, you could also set the end point to be when the function has returned closest\n",
    "        ## to the gradient at the start_point\n",
    "\n",
    "    4. If this point is < post-peak max point, choose the maximum point.\n",
    "\n",
    "    \"\"\"\n",
    "    reaction_x = X[start_point:] # x's after the start_point\n",
    "    reaction_y = y[start_point:] # y's after the start_point\n",
    "    index_of_peak = reaction_y.argmin()\n",
    "\n",
    "    spline = UnivariateSpline(reaction_x, reaction_y, k = 5)\n",
    "    second_derivative = spline.derivative(2)(reaction_x)\n",
    "\n",
    "    relevant_end_points = np.abs(second_derivative)\n",
    "    end_point = np.max(relevant_end_points.argsort()[:50])# get the largest of all the zero points\n",
    "    end_point_id = start_point + end_point #end point is measured as points from end of experiment\n",
    "\n",
    "    # if there's a greater point between peak and end point, choose  it\n",
    "    if np.max(y[index_of_peak : end_point_id]) > y[end_point_id]:\n",
    "        index = y[index_of_peak : end_point_id].argmax()\n",
    "        end_point_id = index_of_peak + index\n",
    "\n",
    "    return end_point_id"
   ]
  },
  {
   "cell_type": "code",
   "execution_count": 19,
   "metadata": {
    "collapsed": true
   },
   "outputs": [],
   "source": [
    "start_point = 1400"
   ]
  },
  {
   "cell_type": "code",
   "execution_count": 20,
   "metadata": {
    "collapsed": false
   },
   "outputs": [],
   "source": [
    "reaction_x = X[start_point:] # x's after the start_point\n",
    "reaction_y = y[start_point:] # y's after the start_point\n",
    "index_of_peak = reaction_y.argmin()\n",
    "\n",
    "spline = UnivariateSpline(reaction_x, reaction_y, k = 5)\n",
    "second_derivative = spline.derivative(2)(reaction_x)\n",
    "\n",
    "relevant_end_points = np.abs(second_derivative)\n",
    "end_point = np.max(relevant_end_points.argsort()[:50])# get the largest of all the zero points\n",
    "end_point_id = start_point + end_point #end point is measured as points from end of experiment\n",
    "\n",
    "# if there's a greater point between peak and end point, choose  it\n",
    "if np.max(y[index_of_peak : end_point_id]) > y[end_point_id]:\n",
    "    index = y[index_of_peak : end_point_id].argmax()\n",
    "    end_point_id = index_of_peak + index"
   ]
  },
  {
   "cell_type": "code",
   "execution_count": 22,
   "metadata": {
    "collapsed": true
   },
   "outputs": [],
   "source": [
    "%matplotlib inline"
   ]
  },
  {
   "cell_type": "code",
   "execution_count": 31,
   "metadata": {
    "collapsed": false
   },
   "outputs": [
    {
     "data": {
      "text/plain": [
       "<function matplotlib.pyplot.scatter>"
      ]
     },
     "execution_count": 31,
     "metadata": {},
     "output_type": "execute_result"
    },
    {
     "data": {
      "image/png": "[encoded data removed]",
      "text/plain": [
       "<matplotlib.figure.Figure at 0x10c84ec50>"
      ]
     },
     "metadata": {},
     "output_type": "display_data"
    }
   ],
   "source": [
    "plt.plot(y[index_of_peak:])\n",
    "plt.scatter"
   ]
  },
  {
   "cell_type": "code",
   "execution_count": null,
   "metadata": {
    "collapsed": true
   },
   "outputs": [],
   "source": []
  }
 ],
 "metadata": {
  "kernelspec": {
   "display_name": "Python 2",
   "language": "python",
   "name": "python2"
  },
  "language_info": {
   "codemirror_mode": {
    "name": "ipython",
    "version": 2
   },
   "file_extension": ".py",
   "mimetype": "text/x-python",
   "name": "python",
   "nbconvert_exporter": "python",
   "pygments_lexer": "ipython2",
   "version": "2.7.10"
  }
 },
 "nbformat": 4,
 "nbformat_minor": 0
}
