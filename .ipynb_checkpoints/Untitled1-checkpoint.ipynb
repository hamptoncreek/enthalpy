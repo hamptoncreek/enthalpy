{
 "cells": [
  {
   "cell_type": "code",
   "execution_count": 1,
   "metadata": {
    "collapsed": false
   },
   "outputs": [],
   "source": [
    "from main import *\n",
    "from file_helpers import *"
   ]
  },
  {
   "cell_type": "code",
   "execution_count": 2,
   "metadata": {
    "collapsed": false
   },
   "outputs": [],
   "source": [
    "fnames = get_files()"
   ]
  },
  {
   "cell_type": "code",
   "execution_count": 9,
   "metadata": {
    "collapsed": false
   },
   "outputs": [],
   "source": [
    "import sys\n",
    "\n",
    "import numpy as np\n",
    "import matplotlib.pyplot as plt\n",
    "\n",
    "import peak_detection as pdetect\n",
    "import peak_statistics as pstats\n",
    "import file_helpers as fh\n",
    "\n",
    "def process_data(filepath, plot = False):\n",
    "    \"\"\"\n",
    "    ================\n",
    "    INPUT: string (filepath), boolean\n",
    "    OUTPUT: several statistics, and a plot if \"plot\" parameter is True\n",
    "    ================\n",
    "\n",
    "    Returns enthalpy about the data, and plots it, the endpoints and the\n",
    "    line if you want (as well as statistics)\n",
    "\n",
    "    \"\"\"\n",
    "\n",
    "    # clean the data\n",
    "    data = fh.clean_file(filepath)\n",
    "\n",
    "    #find the first number in the filename and use as the title\n",
    "    name_of_preparation = fh.get_file_title(filepath)\n",
    "\n",
    "    # ensure that the data is formatted correctly, as arrays\n",
    "    temp, heat_flow = np.array(data.temp), np.array(data.heat_flow)\n",
    "\n",
    "    # generate statistics\n",
    "    e, hf, t, sd, (onset_point, end_point) = pstats.get_statistics(temp, heat_flow)\n",
    "        \n",
    "    statistics_text = \"\"\"=== Preparation {0} ===\n",
    "    Enthalpy: {1}\n",
    "    Peak Heat Flow: {2}\n",
    "    Peak Temperature: {3}\n",
    "    Heat Flow Standard Devation: {4}\n",
    "    Onset point: {5}, {6}\n",
    "    End point: {7}, {8}\n",
    "    \"\"\".format(name_of_preparation,\n",
    "               round(e, 3),\n",
    "               round(hf, 3),\n",
    "               round(t, 2),\n",
    "               round(sd, 4),\n",
    "               round(onset_point[0], 2),\n",
    "               round(onset_point[1], 3),\n",
    "               round(end_point[0], 2),\n",
    "               round(end_point[1], 3)\n",
    "               )\n",
    "\n",
    "    if plot:\n",
    "        # get line for plotting\n",
    "        line_X, line_y = pstats.fit_line(temp, heat_flow)\n",
    "\n",
    "        # get onset and end points\n",
    "        (x0, y0), (x1, y1) = pdetect.get_points_coordinates(X, y)\n",
    "\n",
    "        # set up plot\n",
    "        fig, ax = plt.subplots(1)\n",
    "        ax.set_title(name_of_preparation)\n",
    "        ax.set_xlabel(\"Temperature\")\n",
    "        ax.set_ylabel(\"Heat Flow\")\n",
    "        ax.text(0.01,\n",
    "                0.95,\n",
    "                s = statistics_text,\n",
    "                verticalalignment='top',\n",
    "                horizontalalignment='left')\n",
    "\n",
    "        # plot original data\n",
    "        plt.plot(temp,\n",
    "               heat_flow,\n",
    "               color = 'black',\n",
    "               label = \"Original data\"\n",
    "              )\n",
    "\n",
    "        # plot best fit line\n",
    "        plt.plot(line_X,\n",
    "               line_y,\n",
    "               color = 'red',\n",
    "               label = \"Best fit line\"\n",
    "              )\n",
    "\n",
    "        # plot onset point\n",
    "        plt.scatter(x0,\n",
    "                  y0,\n",
    "                  color = 'green',\n",
    "                  label = 'Onset: {}, {}'.format(round(x0,2), round(y0, 2))\n",
    "                 )\n",
    "\n",
    "        # plot end point\n",
    "        plt.scatter(x1,\n",
    "                  y1,\n",
    "                  color = 'purple',\n",
    "                  label = 'End: {}, {}'.format(round(x1, 2), round(y1, 2))\n",
    "                 )\n",
    "        plt.legend()\n",
    "        plt.show()\n",
    "\n",
    "    return e # this is short for enthalpy, as defined above"
   ]
  },
  {
   "cell_type": "code",
   "execution_count": 10,
   "metadata": {
    "collapsed": false
   },
   "outputs": [
    {
     "ename": "IndexError",
     "evalue": "invalid index to scalar variable.",
     "output_type": "error",
     "traceback": [
      "\u001b[0;31m---------------------------------------------------------------------------\u001b[0m",
      "\u001b[0;31mIndexError\u001b[0m                                Traceback (most recent call last)",
      "\u001b[0;32m<ipython-input-10-09ce2be819bd>\u001b[0m in \u001b[0;36m<module>\u001b[0;34m()\u001b[0m\n\u001b[0;32m----> 1\u001b[0;31m \u001b[0mprocess_data\u001b[0m\u001b[0;34m(\u001b[0m\u001b[0mfnames\u001b[0m\u001b[0;34m[\u001b[0m\u001b[0;36m0\u001b[0m\u001b[0;34m]\u001b[0m\u001b[0;34m)\u001b[0m\u001b[0;34m\u001b[0m\u001b[0m\n\u001b[0m",
      "\u001b[0;32m<ipython-input-9-924908115531>\u001b[0m in \u001b[0;36mprocess_data\u001b[0;34m(filepath, plot)\u001b[0m\n\u001b[1;32m     30\u001b[0m \u001b[0;34m\u001b[0m\u001b[0m\n\u001b[1;32m     31\u001b[0m     \u001b[0;31m# generate statistics\u001b[0m\u001b[0;34m\u001b[0m\u001b[0;34m\u001b[0m\u001b[0m\n\u001b[0;32m---> 32\u001b[0;31m     \u001b[0me\u001b[0m\u001b[0;34m,\u001b[0m \u001b[0mhf\u001b[0m\u001b[0;34m,\u001b[0m \u001b[0mt\u001b[0m\u001b[0;34m,\u001b[0m \u001b[0msd\u001b[0m\u001b[0;34m,\u001b[0m \u001b[0;34m(\u001b[0m\u001b[0monset_point\u001b[0m\u001b[0;34m,\u001b[0m \u001b[0mend_point\u001b[0m\u001b[0;34m)\u001b[0m \u001b[0;34m=\u001b[0m \u001b[0mpstats\u001b[0m\u001b[0;34m.\u001b[0m\u001b[0mget_statistics\u001b[0m\u001b[0;34m(\u001b[0m\u001b[0mtemp\u001b[0m\u001b[0;34m,\u001b[0m \u001b[0mheat_flow\u001b[0m\u001b[0;34m)\u001b[0m\u001b[0;34m\u001b[0m\u001b[0m\n\u001b[0m\u001b[1;32m     33\u001b[0m \u001b[0;34m\u001b[0m\u001b[0m\n\u001b[1;32m     34\u001b[0m \u001b[0;34m\u001b[0m\u001b[0m\n",
      "\u001b[0;32mpeak_statistics.py\u001b[0m in \u001b[0;36mget_statistics\u001b[0;34m(X, y)\u001b[0m\n",
      "\u001b[0;31mIndexError\u001b[0m: invalid index to scalar variable."
     ]
    }
   ],
   "source": [
    "process_data(fnames[0])"
   ]
  },
  {
   "cell_type": "code",
   "execution_count": null,
   "metadata": {
    "collapsed": true
   },
   "outputs": [],
   "source": []
  }
 ],
 "metadata": {
  "kernelspec": {
   "display_name": "Python 2",
   "language": "python",
   "name": "python2"
  },
  "language_info": {
   "codemirror_mode": {
    "name": "ipython",
    "version": 2
   },
   "file_extension": ".py",
   "mimetype": "text/x-python",
   "name": "python",
   "nbconvert_exporter": "python",
   "pygments_lexer": "ipython2",
   "version": "2.7.10"
  }
 },
 "nbformat": 4,
 "nbformat_minor": 0
}
